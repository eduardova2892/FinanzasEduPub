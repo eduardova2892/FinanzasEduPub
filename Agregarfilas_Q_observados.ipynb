{
  "nbformat": 4,
  "nbformat_minor": 0,
  "metadata": {
    "colab": {
      "provenance": [],
      "authorship_tag": "ABX9TyPQOTg0lUW4X0rNqpvuawP4",
      "include_colab_link": true
    },
    "kernelspec": {
      "name": "python3",
      "display_name": "Python 3"
    },
    "language_info": {
      "name": "python"
    }
  },
  "cells": [
    {
      "cell_type": "markdown",
      "metadata": {
        "id": "view-in-github",
        "colab_type": "text"
      },
      "source": [
        "<a href=\"https://colab.research.google.com/github/eduardova2892/FinanzasEduPub/blob/main/Agregarfilas_Q_observados.ipynb\" target=\"_parent\"><img src=\"https://colab.research.google.com/assets/colab-badge.svg\" alt=\"Open In Colab\"/></a>"
      ]
    },
    {
      "cell_type": "code",
      "source": [
        "import pandas as pd\n",
        "\n",
        "# Cargar archivo original\n",
        "df = pd.read_excel(\"TIT1.xlsx\")\n",
        "\n",
        "# Renombrar columnas\n",
        "df.columns = [\"Fecha\", \"Valor\"]\n",
        "\n",
        "# Asegurar que la columna de fechas sea datetime\n",
        "df[\"Fecha\"] = pd.to_datetime(df[\"Fecha\"], errors=\"coerce\")\n",
        "\n",
        "# Crear nuevas filas\n",
        "new_rows = []\n",
        "for _, row in df.iterrows():\n",
        "    # Fila original\n",
        "    new_rows.append({\"Fecha\": row[\"Fecha\"], \"Valor\": row[\"Valor\"]})\n",
        "    # Fila nueva (fecha+1, valor = -1)\n",
        "    new_rows.append({\n",
        "        \"Fecha\": row[\"Fecha\"] + pd.Timedelta(days=1),\n",
        "        \"Valor\": -1\n",
        "    })\n",
        "\n",
        "# Construir DataFrame\n",
        "df_new = pd.DataFrame(new_rows)\n",
        "\n",
        "# Eliminar duplicados conservando la primera aparición (que sería la original)\n",
        "df_final = df_new.drop_duplicates(subset=[\"Fecha\"], keep=\"first\").reset_index(drop=True)\n",
        "\n",
        "# Guardar en Excel\n",
        "df_final.to_excel(\"TIT1_modificado.xlsx\", index=False)\n",
        "\n",
        "print(\"Archivo generado: TIT1_modificado.xlsx\")"
      ],
      "metadata": {
        "id": "gTqxz3Vvc1p3",
        "outputId": "e7338b9f-1666-4637-d8d1-e9446363cead",
        "colab": {
          "base_uri": "https://localhost:8080/"
        }
      },
      "execution_count": null,
      "outputs": [
        {
          "output_type": "stream",
          "name": "stdout",
          "text": [
            "Archivo generado: TIT1_modificado.xlsx\n"
          ]
        }
      ]
    }
  ]
}